{
 "cells": [
  {
   "cell_type": "code",
   "execution_count": 4,
   "id": "ee7c8393-f032-4f79-8043-4113ea3e0be7",
   "metadata": {},
   "outputs": [
    {
     "name": "stderr",
     "output_type": "stream",
     "text": [
      "\u001b[36m\u001b[1m┌ \u001b[22m\u001b[39m\u001b[36m\u001b[1mInfo: \u001b[22m\u001b[39mWelcome to Octofitter v6.0.1 🐙\n",
      "\u001b[36m\u001b[1m│ \u001b[22m\u001b[39mCheck for new releases: https://github.com/sefffal/Octofitter.jl/releases/\n",
      "\u001b[36m\u001b[1m└ \u001b[22m\u001b[39mRead the documentation: https://sefffal.github.io/Octofitter.jl/dev/\n"
     ]
    }
   ],
   "source": [
    "using Octofitter, Distributions"
   ]
  },
  {
   "cell_type": "code",
   "execution_count": null,
   "id": "67505822-4cd9-4964-9643-cb7f07c46cc8",
   "metadata": {},
   "outputs": [],
   "source": []
  }
 ],
 "metadata": {
  "kernelspec": {
   "display_name": "Julia 1.11.5",
   "language": "julia",
   "name": "julia-1.11"
  },
  "language_info": {
   "file_extension": ".jl",
   "mimetype": "application/julia",
   "name": "julia",
   "version": "1.11.5"
  }
 },
 "nbformat": 4,
 "nbformat_minor": 5
}
